{
  "nbformat": 4,
  "nbformat_minor": 0,
  "metadata": {
    "colab": {
      "name": "list_operation.ipynb",
      "provenance": [],
      "authorship_tag": "ABX9TyN+PM0JB+JO+1y7TywdeAbT",
      "include_colab_link": true
    },
    "kernelspec": {
      "name": "python3",
      "display_name": "Python 3"
    },
    "language_info": {
      "name": "python"
    }
  },
  "cells": [
    {
      "cell_type": "markdown",
      "metadata": {
        "id": "view-in-github",
        "colab_type": "text"
      },
      "source": [
        "<a href=\"https://colab.research.google.com/github/TeppeiUe/git-practice/blob/main/python-practice/list_operation.ipynb\" target=\"_parent\"><img src=\"https://colab.research.google.com/assets/colab-badge.svg\" alt=\"Open In Colab\"/></a>"
      ]
    },
    {
      "cell_type": "code",
      "metadata": {
        "colab": {
          "base_uri": "https://localhost:8080/",
          "height": 35
        },
        "id": "U093sUqpGSHc",
        "outputId": "b9298f5c-260d-4b0e-c7ee-d647b65ebc94"
      },
      "source": [
        "stations = [\"東京\", \"品川\", \"新横浜\", \"小田原\", \"熱海\"]\n",
        "stations[-1]"
      ],
      "execution_count": null,
      "outputs": [
        {
          "output_type": "execute_result",
          "data": {
            "application/vnd.google.colaboratory.intrinsic+json": {
              "type": "string"
            },
            "text/plain": [
              "'熱海'"
            ]
          },
          "metadata": {
            "tags": []
          },
          "execution_count": 72
        }
      ]
    },
    {
      "cell_type": "code",
      "metadata": {
        "colab": {
          "base_uri": "https://localhost:8080/"
        },
        "id": "nP7KljjqOGRC",
        "outputId": "562b1825-f920-4820-8c61-64db4eddd29d"
      },
      "source": [
        "# 検索値のインデックスを取得\n",
        "station = stations[-2]\n",
        "print(\"検索値：\", station)\n",
        "station_index = stations.index(station)\n",
        "print(\"検索値のインデックス：%d\" % station_index)"
      ],
      "execution_count": null,
      "outputs": [
        {
          "output_type": "stream",
          "text": [
            "検索値： 小田原\n",
            "検索値のインデックス：3\n"
          ],
          "name": "stdout"
        }
      ]
    },
    {
      "cell_type": "code",
      "metadata": {
        "colab": {
          "base_uri": "https://localhost:8080/"
        },
        "id": "lc-xxveuUzAh",
        "outputId": "ae4d9b4c-083a-4037-d00c-d0326043af10"
      },
      "source": [
        "# 要素の検索 in演算子\n",
        "print(\"検索値：\", station)\n",
        "print(station in stations)"
      ],
      "execution_count": null,
      "outputs": [
        {
          "output_type": "stream",
          "text": [
            "検索値： 小田原\n",
            "True\n"
          ],
          "name": "stdout"
        }
      ]
    },
    {
      "cell_type": "code",
      "metadata": {
        "colab": {
          "base_uri": "https://localhost:8080/"
        },
        "id": "itkC41bFP7nI",
        "outputId": "189f89aa-f5c4-47cd-9fce-5de079260120"
      },
      "source": [
        "# 配列の要素数を取得\n",
        "len(stations)"
      ],
      "execution_count": null,
      "outputs": [
        {
          "output_type": "execute_result",
          "data": {
            "text/plain": [
              "5"
            ]
          },
          "metadata": {
            "tags": []
          },
          "execution_count": 75
        }
      ]
    },
    {
      "cell_type": "code",
      "metadata": {
        "colab": {
          "base_uri": "https://localhost:8080/"
        },
        "id": "HRFKCh75Hvlo",
        "outputId": "aaafa32b-480c-4d15-8bb3-ab9307994208"
      },
      "source": [
        "# インデックスの最大値以上の値を指定すると、リストの末尾に要素を追加\n",
        "stations.insert(6, \"三島\")\n",
        "stations"
      ],
      "execution_count": null,
      "outputs": [
        {
          "output_type": "execute_result",
          "data": {
            "text/plain": [
              "['東京', '品川', '新横浜', '小田原', '熱海', '三島']"
            ]
          },
          "metadata": {
            "tags": []
          },
          "execution_count": 76
        }
      ]
    },
    {
      "cell_type": "code",
      "metadata": {
        "colab": {
          "base_uri": "https://localhost:8080/"
        },
        "id": "BMpvhjjmQfaY",
        "outputId": "d7b9d4e0-8e33-4c58-c85d-146ea2ac8ce5"
      },
      "source": [
        "stations[3] = 'おだわら'\n",
        "stations"
      ],
      "execution_count": null,
      "outputs": [
        {
          "output_type": "execute_result",
          "data": {
            "text/plain": [
              "['東京', '品川', '新横浜', 'おだわら', '熱海', '三島']"
            ]
          },
          "metadata": {
            "tags": []
          },
          "execution_count": 77
        }
      ]
    },
    {
      "cell_type": "code",
      "metadata": {
        "colab": {
          "base_uri": "https://localhost:8080/"
        },
        "id": "tiYjMH5yQ125",
        "outputId": "fbbed00d-ade6-40e2-9c0a-13036b4de8f2"
      },
      "source": [
        "# 要素の削除 del文\n",
        "print(\"削除前：%s\" % stations)\n",
        "del stations[-1]\n",
        "print(\"削除後：%s\" % stations)"
      ],
      "execution_count": null,
      "outputs": [
        {
          "output_type": "stream",
          "text": [
            "削除前：['東京', '品川', '新横浜', 'おだわら', '熱海', '三島']\n",
            "削除後：['東京', '品川', '新横浜', 'おだわら', '熱海']\n"
          ],
          "name": "stdout"
        }
      ]
    },
    {
      "cell_type": "code",
      "metadata": {
        "colab": {
          "base_uri": "https://localhost:8080/"
        },
        "id": "J190-Y4BSLVo",
        "outputId": "8a5a48fc-3f0e-45e5-e51c-beb96b707d43"
      },
      "source": [
        "# 要素の削除 popメソッド\n",
        "print(\"削除前：%s\" % stations)\n",
        "stations.pop(-1)\n",
        "print(\"削除後：%s\" % stations)"
      ],
      "execution_count": null,
      "outputs": [
        {
          "output_type": "stream",
          "text": [
            "削除前：['東京', '品川', '新横浜', 'おだわら', '熱海']\n",
            "削除後：['東京', '品川', '新横浜', 'おだわら']\n"
          ],
          "name": "stdout"
        }
      ]
    },
    {
      "cell_type": "code",
      "metadata": {
        "colab": {
          "base_uri": "https://localhost:8080/"
        },
        "id": "PKmMm-BKS_jZ",
        "outputId": "5caef575-98ca-434c-dc7e-cecfeed84695"
      },
      "source": [
        "# 要素の削除 removeメソッド\n",
        "# リストに値が存在しない場合エラー\n",
        "print(\"削除前：%s\" % stations)\n",
        "stations.remove('おだわら')\n",
        "print(\"削除後：%s\" % stations)"
      ],
      "execution_count": null,
      "outputs": [
        {
          "output_type": "stream",
          "text": [
            "削除前：['東京', '品川', '新横浜', 'おだわら']\n",
            "削除後：['東京', '品川', '新横浜']\n"
          ],
          "name": "stdout"
        }
      ]
    },
    {
      "cell_type": "code",
      "metadata": {
        "colab": {
          "base_uri": "https://localhost:8080/"
        },
        "id": "uvHTSDKTUJvw",
        "outputId": "1ac46c50-893f-41ba-e1c3-9e04c470872d"
      },
      "source": [
        "stations2 = [\"名古屋\", \"京都\", \"新大阪\"]\n",
        "stations.extend(stations2)\n",
        "stations"
      ],
      "execution_count": null,
      "outputs": [
        {
          "output_type": "execute_result",
          "data": {
            "text/plain": [
              "['東京', '品川', '新横浜', '名古屋', '京都', '新大阪']"
            ]
          },
          "metadata": {
            "tags": []
          },
          "execution_count": 81
        }
      ]
    },
    {
      "cell_type": "code",
      "metadata": {
        "colab": {
          "base_uri": "https://localhost:8080/"
        },
        "id": "dtIV_KHbW1Fc",
        "outputId": "4de3b301-c053-47dd-8941-325f28c42a02"
      },
      "source": [
        "Fibonacci_number = [0, 1]\n",
        "n = 0\n",
        "\n",
        "while len(Fibonacci_number) <= 10:\n",
        "    add_number = Fibonacci_number[n] + Fibonacci_number[n+1]\n",
        "    Fibonacci_number.append(add_number)\n",
        "    n += 1\n",
        "\n",
        "Fibonacci_number"
      ],
      "execution_count": null,
      "outputs": [
        {
          "output_type": "execute_result",
          "data": {
            "text/plain": [
              "[0, 1, 1, 2, 3, 5, 8, 13, 21, 34, 55]"
            ]
          },
          "metadata": {
            "tags": []
          },
          "execution_count": 82
        }
      ]
    },
    {
      "cell_type": "code",
      "metadata": {
        "colab": {
          "base_uri": "https://localhost:8080/"
        },
        "id": "Oy69MH0nYovT",
        "outputId": "40fe6fea-379a-4757-f42a-35f8fcd2ff0c"
      },
      "source": [
        "# 要素の検索　countメソッド\n",
        "Fibonacci_number.count(1)"
      ],
      "execution_count": null,
      "outputs": [
        {
          "output_type": "execute_result",
          "data": {
            "text/plain": [
              "2"
            ]
          },
          "metadata": {
            "tags": []
          },
          "execution_count": 83
        }
      ]
    }
  ]
}