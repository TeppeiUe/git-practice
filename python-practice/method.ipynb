{
  "nbformat": 4,
  "nbformat_minor": 0,
  "metadata": {
    "colab": {
      "name": "method.ipynb",
      "provenance": [],
      "authorship_tag": "ABX9TyOLDSWDTyLjE/5skx+yHOyF",
      "include_colab_link": true
    },
    "kernelspec": {
      "name": "python3",
      "display_name": "Python 3"
    },
    "language_info": {
      "name": "python"
    }
  },
  "cells": [
    {
      "cell_type": "markdown",
      "metadata": {
        "id": "view-in-github",
        "colab_type": "text"
      },
      "source": [
        "<a href=\"https://colab.research.google.com/github/TeppeiUe/git-practice/blob/main/python-practice/method.ipynb\" target=\"_parent\"><img src=\"https://colab.research.google.com/assets/colab-badge.svg\" alt=\"Open In Colab\"/></a>"
      ]
    },
    {
      "cell_type": "code",
      "metadata": {
        "colab": {
          "base_uri": "https://localhost:8080/"
        },
        "id": "q3d5_Fu8OzoW",
        "outputId": "5be82993-65be-4ca8-9cff-f4a9511e375c"
      },
      "source": [
        "input_item = input(\"文字列を入力して下さい：\")\n",
        "print(\"文字列「\" + input_item + \"」が入力されました。\")"
      ],
      "execution_count": null,
      "outputs": [
        {
          "output_type": "stream",
          "text": [
            "文字列を入力して下さい：ぱいそん\n",
            "文字列「ぱいそん」が入力されました。\n"
          ],
          "name": "stdout"
        }
      ]
    },
    {
      "cell_type": "code",
      "metadata": {
        "colab": {
          "base_uri": "https://localhost:8080/"
        },
        "id": "Pd41DV76PVhJ",
        "outputId": "3bb9ab8f-5ad9-4ea5-db4a-218477fda469"
      },
      "source": [
        "text = \"lower letters\"\n",
        "uppered_text = text.upper()\n",
        "print(uppered_text)\n",
        "print(uppered_text.lower())"
      ],
      "execution_count": null,
      "outputs": [
        {
          "output_type": "stream",
          "text": [
            "LOWER LETTERS\n",
            "lower letters\n"
          ],
          "name": "stdout"
        }
      ]
    },
    {
      "cell_type": "code",
      "metadata": {
        "colab": {
          "base_uri": "https://localhost:8080/"
        },
        "id": "eCooPQDbP2J3",
        "outputId": "c68030a6-7241-4896-f0e1-e4e8c3208edd"
      },
      "source": [
        "text = \"あいうえおかきくけこ\"\n",
        "print(text.find(\"か\"))\n",
        "print(text.find(\"さ\"))"
      ],
      "execution_count": null,
      "outputs": [
        {
          "output_type": "stream",
          "text": [
            "5\n",
            "-1\n"
          ],
          "name": "stdout"
        }
      ]
    },
    {
      "cell_type": "code",
      "metadata": {
        "colab": {
          "base_uri": "https://localhost:8080/"
        },
        "id": "XCPT5jcMQ8p1",
        "outputId": "138f83e0-99d6-41a5-bafc-b507fe396197"
      },
      "source": [
        "number = 0.25\n",
        "number.as_integer_ratio()"
      ],
      "execution_count": null,
      "outputs": [
        {
          "output_type": "execute_result",
          "data": {
            "text/plain": [
              "(1, 4)"
            ]
          },
          "metadata": {
            "tags": []
          },
          "execution_count": 13
        }
      ]
    }
  ]
}