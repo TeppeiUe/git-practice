{
  "nbformat": 4,
  "nbformat_minor": 0,
  "metadata": {
    "colab": {
      "name": "function.ipynb",
      "provenance": [],
      "collapsed_sections": [],
      "authorship_tag": "ABX9TyPfsxeMeSgehQtLnGHzdXvz",
      "include_colab_link": true
    },
    "kernelspec": {
      "name": "python3",
      "display_name": "Python 3"
    },
    "language_info": {
      "name": "python"
    }
  },
  "cells": [
    {
      "cell_type": "markdown",
      "metadata": {
        "id": "view-in-github",
        "colab_type": "text"
      },
      "source": [
        "<a href=\"https://colab.research.google.com/github/TeppeiUe/git-practice/blob/main/python-practice/function.ipynb\" target=\"_parent\"><img src=\"https://colab.research.google.com/assets/colab-badge.svg\" alt=\"Open In Colab\"/></a>"
      ]
    },
    {
      "cell_type": "markdown",
      "metadata": {
        "id": "hS8KU72A29vC"
      },
      "source": [
        "### 台形則によるガウス積分の数値計算\n",
        "- ガウス積分  \n",
        "$$\n",
        "\\int_{-\\infty}^{\\infty} e^{-x^2}dx = \\sqrt{\\pi} \n",
        "$$\n",
        "- 台形則  \n",
        "$$\n",
        "\\begin{align}\\int_{a}^{b} f(x)dx&\\approx\\sum_{k=1}^{n}(b-a)\\frac{f(a_{k-1})+f(a_{k})}{2n}\\\\&=\\frac{b-a}{n}\\Biggr\\{\\frac{f(a)+f(b)}{2}+\\sum_{k=1}^{n-1} f\\Bigr(a+k \\frac{b-a}{n}\\Bigl)\\Biggl\\}\\end{align}\n",
        "$$\n",
        "[wikipedia 台形公式リンク](https://ja.wikipedia.org/wiki/%E5%8F%B0%E5%BD%A2%E5%85%AC%E5%BC%8F)\n",
        "\n",
        "___\n",
        "※数式は$\\TeX$形式で記述できるようです"
      ]
    },
    {
      "cell_type": "code",
      "metadata": {
        "colab": {
          "base_uri": "https://localhost:8080/"
        },
        "id": "RJbOpA9fEgGm",
        "outputId": "70c26d37-ddbd-4ca3-f75e-a61e36a949b7"
      },
      "source": [
        "import math\n",
        "\n",
        "def f(x):\n",
        "    return math.exp(-x**2)\n",
        "\n",
        "a = -100 # 積分区間開始\n",
        "b = 100 # 積分区間終了\n",
        "N = 1000 # 分割数\n",
        "\n",
        "def trapezoidal_rule(a, b, N):\n",
        "    k = 1\n",
        "    s = (f(a) + f(b))/2\n",
        "    \n",
        "    while k < N:\n",
        "        s += f(a + k*(b - a)/N)\n",
        "        k += 1\n",
        "\n",
        "    return (b - a)*s/N\n",
        "\n",
        "print(\"台形積分結果：%f\" % trapezoidal_rule(a, b, N))\n",
        "print(\"理論値：%f\" % math.pi**0.5)"
      ],
      "execution_count": null,
      "outputs": [
        {
          "output_type": "stream",
          "text": [
            "台形積分結果：1.772454\n",
            "理論値：1.772454\n"
          ],
          "name": "stdout"
        }
      ]
    },
    {
      "cell_type": "markdown",
      "metadata": {
        "id": "E_1-l4sm36ww"
      },
      "source": [
        "### matplotlibでグラフを作成\n",
        "$y=e^{-x^2}$を描画\n"
      ]
    },
    {
      "cell_type": "code",
      "metadata": {
        "colab": {
          "base_uri": "https://localhost:8080/",
          "height": 279
        },
        "id": "u8ftdrMuU45-",
        "outputId": "74d00afa-92dc-4f97-a446-7ad1f0dccd8f"
      },
      "source": [
        "import numpy as np\n",
        "import matplotlib.pyplot as plt\n",
        "\n",
        "x = np.arange(a, b, 1/N)\n",
        "y = np.exp(-x**2)\n",
        "\n",
        "plt.plot(x, y, \"b-\", label=\"$y=e^{-x^2}$\")\n",
        "plt.xlabel(\"$x$\")\n",
        "plt.ylabel(\"$y$\")\n",
        "plt.legend()\n",
        "plt.show()"
      ],
      "execution_count": null,
      "outputs": [
        {
          "output_type": "display_data",
          "data": {
            "image/png": "[encoded data removed]",
            "text/plain": [
              "<Figure size 432x288 with 1 Axes>"
            ]
          },
          "metadata": {
            "tags": [],
            "needs_background": "light"
          }
        }
      ]
    },
    {
      "cell_type": "markdown",
      "metadata": {
        "id": "buJIscPlBDCb"
      },
      "source": [
        "### 関数の呼び出し方"
      ]
    },
    {
      "cell_type": "code",
      "metadata": {
        "colab": {
          "base_uri": "https://localhost:8080/"
        },
        "id": "2bBS3aU39fdE",
        "outputId": "d0be1a3b-2509-4253-ea61-0c4a7f8129da"
      },
      "source": [
        "def func(arg1=\"default1\", arg2=\"default2\", arg3=\"default3\"):\n",
        "    print(\"arg1:%s\\narg2:%s\\narg3:%s\\n\" % (arg1, arg2, arg3))\n",
        "\n",
        "# 引数の指定方法\n",
        "func(\"引数1\", \"引数2\", \"引数3\") # 位置引数\n",
        "func(arg3=\"引数3\", arg1=\"引数1\", arg2=\"引数2\") # キーワード引数\n",
        "\n",
        "func(arg1=\"引数1\", arg3=\"引数3\") # デフォルト引数の動作確認"
      ],
      "execution_count": null,
      "outputs": [
        {
          "output_type": "stream",
          "text": [
            "arg1:引数1\n",
            "arg2:引数2\n",
            "arg3:引数3\n",
            "\n",
            "arg1:引数1\n",
            "arg2:引数2\n",
            "arg3:引数3\n",
            "\n",
            "arg1:引数1\n",
            "arg2:default2\n",
            "arg3:引数3\n",
            "\n"
          ],
          "name": "stdout"
        }
      ]
    }
  ]
}