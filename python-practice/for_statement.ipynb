{
  "nbformat": 4,
  "nbformat_minor": 0,
  "metadata": {
    "colab": {
      "name": "for_statement.ipynb",
      "provenance": [],
      "authorship_tag": "ABX9TyMwa9C3ZAMp2fVRqkzjrsaN",
      "include_colab_link": true
    },
    "kernelspec": {
      "name": "python3",
      "display_name": "Python 3"
    },
    "language_info": {
      "name": "python"
    }
  },
  "cells": [
    {
      "cell_type": "markdown",
      "metadata": {
        "id": "view-in-github",
        "colab_type": "text"
      },
      "source": [
        "<a href=\"https://colab.research.google.com/github/TeppeiUe/git-practice/blob/main/python-practice/for_statement.ipynb\" target=\"_parent\"><img src=\"https://colab.research.google.com/assets/colab-badge.svg\" alt=\"Open In Colab\"/></a>"
      ]
    },
    {
      "cell_type": "code",
      "metadata": {
        "id": "PXHVfsfvGcDe",
        "colab": {
          "base_uri": "https://localhost:8080/"
        },
        "outputId": "68d9e47b-727e-41ca-d2dd-30144dfda6b5"
      },
      "source": [
        "words = [\"Japanese\", \"English\", \"Chainese\"]\n",
        "words_upper = []\n",
        "\n",
        "for word in words:\n",
        "     words_upper.append(word.upper())\n",
        "\n",
        "words_upper"
      ],
      "execution_count": 1,
      "outputs": [
        {
          "output_type": "execute_result",
          "data": {
            "text/plain": [
              "['JAPANESE', 'ENGLISH', 'CHAINESE']"
            ]
          },
          "metadata": {
            "tags": []
          },
          "execution_count": 1
        }
      ]
    },
    {
      "cell_type": "code",
      "metadata": {
        "colab": {
          "base_uri": "https://localhost:8080/"
        },
        "id": "VxGuyHRhWiVc",
        "outputId": "8935b039-0e5e-4981-97fb-845d251f7239"
      },
      "source": [
        "def toUpper(text):\n",
        "    return text.upper()\n",
        "\n",
        "list(map(toUpper, words))"
      ],
      "execution_count": 2,
      "outputs": [
        {
          "output_type": "execute_result",
          "data": {
            "text/plain": [
              "['JAPANESE', 'ENGLISH', 'CHAINESE']"
            ]
          },
          "metadata": {
            "tags": []
          },
          "execution_count": 2
        }
      ]
    },
    {
      "cell_type": "code",
      "metadata": {
        "colab": {
          "base_uri": "https://localhost:8080/"
        },
        "id": "qKStX_4LZgE1",
        "outputId": "02bd354e-2a80-4973-905f-a8948598798c"
      },
      "source": [
        "def factorial_calc(n):\n",
        "    calc = 1\n",
        "\n",
        "    for i in range(n):\n",
        "        calc *= i + 1\n",
        "\n",
        "    return calc\n",
        "\n",
        "num = 5\n",
        "print(\"%d!=%d\" % (num, factorial_calc(num)))\n",
        "\n",
        "import math\n",
        "print(\"%d!=%d\" % (num, math.factorial(num)))"
      ],
      "execution_count": 3,
      "outputs": [
        {
          "output_type": "stream",
          "text": [
            "5!=120\n",
            "5!=120\n"
          ],
          "name": "stdout"
        }
      ]
    },
    {
      "cell_type": "markdown",
      "metadata": {
        "id": "H8s3wh4Hsy2F"
      },
      "source": [
        "### モンテカルロ法を利用した円周率の近似計算\n",
        "[0, 1]の乱数を$x$と$y$でそれぞれ生成し、座標$(x, y)$とする。\n",
        "原点から座標$(x, y)$までのマンハッタン距離を求め、1以下の事象を回数としてカウント(countと置く)する。  \n",
        "上記試行をtrails回実施するとすると、円周率の近似値は以下の通りである。\n",
        "$$\n",
        "\\frac{\\pi}{4} \\approx \\frac{count}{trails}\n",
        "$$\n",
        "[モンテカルロ法wikipedia](https://ja.wikipedia.org/wiki/%E3%83%A2%E3%83%B3%E3%83%86%E3%82%AB%E3%83%AB%E3%83%AD%E6%B3%95)"
      ]
    },
    {
      "cell_type": "code",
      "metadata": {
        "colab": {
          "base_uri": "https://localhost:8080/"
        },
        "id": "5LRTsdzvdRr1",
        "outputId": "e89f438f-4cfc-4370-e0b8-39befe72e810"
      },
      "source": [
        "import math\n",
        "import random\n",
        "\n",
        "def montecarlo(trails):\n",
        "    count = 0\n",
        "    x_in = []\n",
        "    y_in = []\n",
        "    x_out = []\n",
        "    y_out = []\n",
        "\n",
        "    for i in range(1, trails):\n",
        "        x = random.uniform(0, 1)\n",
        "        y = random.uniform(0, 1)\n",
        "        r = math.sqrt(x**2 + y**2)\n",
        "\n",
        "        if r <= 1:\n",
        "            count += 1\n",
        "            x_in.append(x)\n",
        "            y_in.append(y)\n",
        "        else:\n",
        "            x_out.append(x)\n",
        "            y_out.append(y)\n",
        "    \n",
        "    return 4*count/trails, x_in, y_in, x_out, y_out\n",
        "\n",
        "trails = 100000\n",
        "pi_calc, x_in, y_in, x_out, y_out = montecarlo(trails)\n",
        "\n",
        "print(\"モンテカルロ法で近似計算値(試行回数：%d)：\\n %f\" % (trails, pi_calc))\n",
        "print(\"理論値：\\n\", math.pi)"
      ],
      "execution_count": 4,
      "outputs": [
        {
          "output_type": "stream",
          "text": [
            "モンテカルロ法で近似計算値(試行回数：100000)：\n",
            " 3.145160\n",
            "理論値：\n",
            " 3.141592653589793\n"
          ],
          "name": "stdout"
        }
      ]
    },
    {
      "cell_type": "code",
      "metadata": {
        "colab": {
          "base_uri": "https://localhost:8080/",
          "height": 278
        },
        "id": "M33AP2Jbn1hF",
        "outputId": "d31b87a4-adab-4335-8e11-7256476158e4"
      },
      "source": [
        "import matplotlib.pyplot as plt\n",
        "\n",
        "plt.scatter(x_in, y_in, s= 1)\n",
        "plt.scatter(x_out, y_out, s=1)\n",
        "plt.xlabel('x')\n",
        "plt.ylabel('y')\n",
        "plt.axis('square')\n",
        "plt.show()"
      ],
      "execution_count": 5,
      "outputs": [
        {
          "output_type": "display_data",
          "data": {
            "image/png": "[encoded data removed]",
            "text/plain": [
              "<Figure size 432x288 with 1 Axes>"
            ]
          },
          "metadata": {
            "tags": [],
            "needs_background": "light"
          }
        }
      ]
    }
  ]
}