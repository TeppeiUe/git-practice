{
  "nbformat": 4,
  "nbformat_minor": 0,
  "metadata": {
    "colab": {
      "name": "if-statement.ipynb",
      "provenance": [],
      "authorship_tag": "ABX9TyNvYcN77V/p737Rq9hMxmFv",
      "include_colab_link": true
    },
    "kernelspec": {
      "name": "python3",
      "display_name": "Python 3"
    },
    "language_info": {
      "name": "python"
    }
  },
  "cells": [
    {
      "cell_type": "markdown",
      "metadata": {
        "id": "view-in-github",
        "colab_type": "text"
      },
      "source": [
        "<a href=\"https://colab.research.google.com/github/TeppeiUe/git-practice/blob/main/python-practice/if_statement.ipynb\" target=\"_parent\"><img src=\"https://colab.research.google.com/assets/colab-badge.svg\" alt=\"Open In Colab\"/></a>"
      ]
    },
    {
      "cell_type": "code",
      "metadata": {
        "colab": {
          "base_uri": "https://localhost:8080/"
        },
        "id": "pQqnVhfJSsQL",
        "outputId": "236f6b35-d663-42b3-e1b2-32c959c7547d"
      },
      "source": [
        "import random\n",
        "number = random.randint(1, 10)\n",
        "print (\"生成された数字：\" + str(number))\n",
        "\n",
        "if number == 10:\n",
        "    print(\"10点\")\n",
        "elif number >= 6:\n",
        "    print(\"6点以上\")\n",
        "elif number >= 3:\n",
        "    print(\"3点以上\")\n",
        "else:\n",
        "    print(\"3点未満\")"
      ],
      "execution_count": 23,
      "outputs": [
        {
          "output_type": "stream",
          "text": [
            "生成された数字：3\n",
            "3点以上\n"
          ],
          "name": "stdout"
        }
      ]
    },
    {
      "cell_type": "code",
      "metadata": {
        "colab": {
          "base_uri": "https://localhost:8080/"
        },
        "id": "1RcLwJoWXwQX",
        "outputId": "0e494706-d7ab-4a81-d337-f3b07b8003ba"
      },
      "source": [
        "input_text = input(\"入力して下さい：\")\n",
        "\n",
        "if input_text.isdecimal(): # decimal:十進数\n",
        "    print(\"文字列は数字\")\n",
        "elif input_text.isalpha():\n",
        "    print(\"文字列はアルファベット\") # 日本語もalphabet扱い\n",
        "else:\n",
        "    print(\"文字列は数字でもアルファベットでもない\")"
      ],
      "execution_count": 38,
      "outputs": [
        {
          "output_type": "stream",
          "text": [
            "入力して下さい：にほんご\n",
            "文字列はアルファベット\n"
          ],
          "name": "stdout"
        }
      ]
    },
    {
      "cell_type": "code",
      "metadata": {
        "colab": {
          "base_uri": "https://localhost:8080/"
        },
        "id": "GnPmYEgAmobk",
        "outputId": "daf2f237-d4a8-4b6f-c2f4-5f39bc2f98c1"
      },
      "source": [
        "input_age = input(\"年齢を入力：\")\n",
        "input_height = input(\"身長を入力：\")\n",
        "\n",
        "if (10 <= int(input_age)) and (120 <= int(input_height)):\n",
        "    print(\"乗車可能\")\n",
        "else:\n",
        "    print(\"乗車不可能\")"
      ],
      "execution_count": 42,
      "outputs": [
        {
          "output_type": "stream",
          "text": [
            "年齢を入力：10\n",
            "身長を入力：119\n",
            "乗車不可能\n"
          ],
          "name": "stdout"
        }
      ]
    }
  ]
}