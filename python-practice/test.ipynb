{
  "nbformat": 4,
  "nbformat_minor": 0,
  "metadata": {
    "colab": {
      "name": "test.ipynb",
      "provenance": [],
      "authorship_tag": "ABX9TyO74G/ajiDTzCB4dSD9ZUxJ",
      "include_colab_link": true
    },
    "kernelspec": {
      "name": "python3",
      "display_name": "Python 3"
    },
    "language_info": {
      "name": "python"
    }
  },
  "cells": [
    {
      "cell_type": "markdown",
      "metadata": {
        "id": "view-in-github",
        "colab_type": "text"
      },
      "source": [
        "<a href=\"https://colab.research.google.com/github/TeppeiUe/git-practice/blob/main/python-practice/test.ipynb\" target=\"_parent\"><img src=\"https://colab.research.google.com/assets/colab-badge.svg\" alt=\"Open In Colab\"/></a>"
      ]
    },
    {
      "cell_type": "markdown",
      "metadata": {
        "id": "haVx1FLz3YYb"
      },
      "source": [
        "# マークダウン記法テスト\n",
        "### markdown記法\n",
        "- 数式\n",
        "$$\n",
        "y=2x+1\n",
        "$$\n",
        "- コードブロック\n",
        "```python\n",
        "print(\"Hello, World!\")\n",
        "```\n",
        " > 引用文\n",
        " \n"
      ]
    },
    {
      "cell_type": "code",
      "metadata": {
        "colab": {
          "base_uri": "https://localhost:8080/"
        },
        "id": "uaqDukCP15Xs",
        "outputId": "39a85295-2fd4-4195-8562-32636ec7b288"
      },
      "source": [
        "print(\"Hello, World!\")\n",
        "print(\"Hello, Python!\")"
      ],
      "execution_count": 2,
      "outputs": [
        {
          "output_type": "stream",
          "text": [
            "Hello, World!\n",
            "Hello, Python!\n"
          ],
          "name": "stdout"
        }
      ]
    }
  ]
}