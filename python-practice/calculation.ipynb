{
  "nbformat": 4,
  "nbformat_minor": 0,
  "metadata": {
    "colab": {
      "name": "calculation.ipynb",
      "provenance": [],
      "authorship_tag": "ABX9TyPaAvMiHT5sGohrxCyuqfYt",
      "include_colab_link": true
    },
    "kernelspec": {
      "name": "python3",
      "display_name": "Python 3"
    },
    "language_info": {
      "name": "python"
    }
  },
  "cells": [
    {
      "cell_type": "markdown",
      "metadata": {
        "id": "view-in-github",
        "colab_type": "text"
      },
      "source": [
        "<a href=\"https://colab.research.google.com/github/TeppeiUe/git-practice/blob/main/python-practice/calculation.ipynb\" target=\"_parent\"><img src=\"https://colab.research.google.com/assets/colab-badge.svg\" alt=\"Open In Colab\"/></a>"
      ]
    },
    {
      "cell_type": "markdown",
      "metadata": {
        "id": "ro7jhW76CVKf"
      },
      "source": [
        "### 小数点以下を切り捨てる作用子(//)\n",
        "切り捨ての向きは値を減らす方向"
      ]
    },
    {
      "cell_type": "code",
      "metadata": {
        "colab": {
          "base_uri": "https://localhost:8080/"
        },
        "id": "Dbr4A3_OA9GE",
        "outputId": "4ddf5dae-b278-42ea-9d3f-332f2896da05"
      },
      "source": [
        "print(5/3)\n",
        "print(5//3)"
      ],
      "execution_count": 17,
      "outputs": [
        {
          "output_type": "stream",
          "text": [
            "1.6666666666666667\n",
            "1\n"
          ],
          "name": "stdout"
        }
      ]
    },
    {
      "cell_type": "code",
      "metadata": {
        "colab": {
          "base_uri": "https://localhost:8080/"
        },
        "id": "G0lMkVk1BUKE",
        "outputId": "157d82c9-a7d8-445b-f231-b0706f263f2d"
      },
      "source": [
        "print(-3/2)\n",
        "print(-3//2)"
      ],
      "execution_count": 13,
      "outputs": [
        {
          "output_type": "stream",
          "text": [
            "-1.5\n",
            "-2\n"
          ],
          "name": "stdout"
        }
      ]
    },
    {
      "cell_type": "markdown",
      "metadata": {
        "id": "YHSw2aiyFCEJ"
      },
      "source": [
        "### 割り算を行うと結果は必ずfloat型"
      ]
    },
    {
      "cell_type": "code",
      "metadata": {
        "colab": {
          "base_uri": "https://localhost:8080/"
        },
        "id": "2Wa_tJSfEeg_",
        "outputId": "b1a1142c-d68d-483b-fdb0-dae4d41db663"
      },
      "source": [
        "print(50/2)\n",
        "print(type(50/2))\n",
        "print(type(50//2))"
      ],
      "execution_count": 21,
      "outputs": [
        {
          "output_type": "stream",
          "text": [
            "25.0\n",
            "<class 'float'>\n",
            "<class 'int'>\n"
          ],
          "name": "stdout"
        }
      ]
    }
  ]
}