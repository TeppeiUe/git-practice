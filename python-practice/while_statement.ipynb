{
  "nbformat": 4,
  "nbformat_minor": 0,
  "metadata": {
    "colab": {
      "name": "while_statement.ipynb",
      "provenance": [],
      "collapsed_sections": [],
      "authorship_tag": "ABX9TyPULdglMUZ8kbObxb+fVK+J",
      "include_colab_link": true
    },
    "kernelspec": {
      "name": "python3",
      "display_name": "Python 3"
    },
    "language_info": {
      "name": "python"
    }
  },
  "cells": [
    {
      "cell_type": "markdown",
      "metadata": {
        "id": "view-in-github",
        "colab_type": "text"
      },
      "source": [
        "<a href=\"https://colab.research.google.com/github/TeppeiUe/git-practice/blob/main/python-practice/while_statement.ipynb\" target=\"_parent\"><img src=\"https://colab.research.google.com/assets/colab-badge.svg\" alt=\"Open In Colab\"/></a>"
      ]
    },
    {
      "cell_type": "markdown",
      "metadata": {
        "id": "2BpPNdE2FuuK"
      },
      "source": [
        "### 入力文字を結合するプログラム\n",
        "- 文字入力は最大10回まで\n",
        "- 入力なしの場合は入力無効(文字入力としてカウントしない)\n",
        "- \"exit\"入力でプログラム終了"
      ]
    },
    {
      "cell_type": "code",
      "metadata": {
        "colab": {
          "base_uri": "https://localhost:8080/"
        },
        "id": "flKWTf5gskr5",
        "outputId": "49a9f772-ec90-49c1-ae66-1bb7e994b1a6"
      },
      "source": [
        "count = 0\n",
        "break_word = 'exit'\n",
        "text_sum = []\n",
        "\n",
        "while count < 10:\n",
        "    input_text = input(\"文字を入力：\")\n",
        "\n",
        "    if input_text is '':\n",
        "        print(\"入力が無効です\")\n",
        "        continue\n",
        "\n",
        "    count += 1\n",
        "    if input_text != break_word:\n",
        "        text_sum.append(input_text)\n",
        "\n",
        "    if input_text == break_word:\n",
        "        break\n",
        "\n",
        "print(\" \".join(text_sum)) # Rubyと記述が逆"
      ],
      "execution_count": 40,
      "outputs": [
        {
          "output_type": "stream",
          "text": [
            "文字を入力：\n",
            "入力が無効です\n",
            "文字を入力：I\n",
            "文字を入力：like\n",
            "文字を入力：a\n",
            "文字を入力：cream\n",
            "文字を入力：\n",
            "入力が無効です\n",
            "文字を入力：puff\n",
            "文字を入力：exit\n",
            "I like a cream puff\n"
          ],
          "name": "stdout"
        }
      ]
    },
    {
      "cell_type": "markdown",
      "metadata": {
        "id": "MgF8gn9II2BM"
      },
      "source": [
        "### 入力数値の倍数を計算するプログラム\n",
        "剰余演算より計算"
      ]
    },
    {
      "cell_type": "code",
      "metadata": {
        "id": "9KK_nVr52lN4",
        "colab": {
          "base_uri": "https://localhost:8080/"
        },
        "outputId": "341b2cc1-6101-4140-cc66-5050fd3f417e"
      },
      "source": [
        "i = 0\n",
        "list = []\n",
        "max_number = 100\n",
        "multiple_number = \"\"\n",
        "\n",
        "while not multiple_number.isdecimal():\n",
        "    multiple_number = input(\"%d以下の自然数を入力：\" % max_number)\n",
        "\n",
        "    if multiple_number.isdecimal(): # ',' '.' '-'を含む場合falseとなるため負数の検証は必要なし\n",
        "        if int(multiple_number) > max_number:\n",
        "            multiple_number = \"\"\n",
        "\n",
        "while i <= max_number:\n",
        "    i += 1\n",
        "\n",
        "    if i % int(multiple_number) != 0:\n",
        "        continue\n",
        "\n",
        "    list.append(i)\n",
        "\n",
        "print(\"multiple of %s between 1 and %d:\" % (multiple_number, max_number))\n",
        "print(\" \".join(map(str, list))) # map(適用する関数, イテラブルオブジェクト)"
      ],
      "execution_count": 64,
      "outputs": [
        {
          "output_type": "stream",
          "text": [
            "100以下の自然数を入力：text\n",
            "100以下の自然数を入力：101\n",
            "100以下の自然数を入力：9\n",
            "multiple of 9 between 1 and 100:\n",
            "9 18 27 36 45 54 63 72 81 90 99\n"
          ],
          "name": "stdout"
        }
      ]
    }
  ]
}